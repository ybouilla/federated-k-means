{
 "cells": [
  {
   "cell_type": "markdown",
   "id": "f8d80893-c8a5-47e5-b247-a7e93e3299e4",
   "metadata": {},
   "source": [
    "# Federated Dataset with data heterogeneity : generate dataset with label distribution skewness\n",
    "\n",
    "This notebook provides **additional material to the Practical Session 2**.  It showcases how to split datasets using Dirichlet allocation. \n",
    "\n",
    "\n",
    "We will focus on the MedNIST dataset, using the first 3 labels\n",
    "\n",
    "\n",
    "Indeed, when using such approach when splitting dataset, we have to ensure that the number of nodes equals the number of classes used\n"
   ]
  },
  {
   "cell_type": "code",
   "execution_count": 2,
   "id": "d4a1aad3-19f4-43a6-b7d8-766d8e6314a7",
   "metadata": {},
   "outputs": [],
   "source": [
    "# access the MedNIST dataset\n",
    "import os\n",
    "data_path = os.path.join(os.getcwd(), 'data', 'MedNIST')  # enter here the path on your device towards MedNIST dataset\n"
   ]
  },
  {
   "cell_type": "code",
   "execution_count": null,
   "id": "ed972c83-4824-42fd-b2d4-213ee6a4eb52",
   "metadata": {},
   "outputs": [],
   "source": [
    "import torch\n",
    "from torchvision import datasets, transforms\n",
    "import numpy as np\n",
    "\n",
    "from scipy.stats import dirichlet\n",
    "# Create a custom pytorch dataset\n",
    "preprocess = transforms.Compose([transforms.ToTensor(),\n",
    "                                        ])\n",
    "data = datasets.ImageFolder(data_path,transform = preprocess)\n",
    "\n"
   ]
  },
  {
   "cell_type": "code",
   "execution_count": null,
   "id": "11c4fd5d-be38-4646-8134-a491d058236e",
   "metadata": {},
   "outputs": [],
   "source": [
    "random_seed = 1234\n",
    "n_nodes = 3\n",
    "n_classes = 3\n",
    "n_data_per_class = 5000\n",
    "n_samples = n_classes * n_data_per_class\n",
    "\n",
    "index_arr = np.arange(n_samples )\n",
    "\n",
    "alpha = 1000  # alpha for dirichlet \n"
   ]
  },
  {
   "cell_type": "code",
   "execution_count": 8,
   "id": "8b6a0d3e-8cf0-4006-abfc-06dee8edd942",
   "metadata": {},
   "outputs": [
    {
     "data": {
      "text/plain": [
       "(array([0, 1, 2, 3, 4, 5]), array([10000,  8954, 10000, 10000, 10000, 10000]))"
      ]
     },
     "execution_count": 8,
     "metadata": {},
     "output_type": "execute_result"
    }
   ],
   "source": [
    "# investigate the MedNIST dataset before proceeding\n",
    "\n",
    "np.unique(data.targets, return_counts=True)"
   ]
  },
  {
   "cell_type": "code",
   "execution_count": 7,
   "id": "49a7699a-3697-444a-b4dc-862b18ed90cb",
   "metadata": {},
   "outputs": [
    {
     "data": {
      "text/plain": [
       "(array([0, 1, 2]), array([5000, 5000, 5000]))"
      ]
     },
     "execution_count": 7,
     "metadata": {},
     "output_type": "execute_result"
    }
   ],
   "source": [
    "np.unique(train_targets, return_counts=True)"
   ]
  },
  {
   "cell_type": "markdown",
   "id": "872f1aee-15aa-4662-aadf-600ba388401c",
   "metadata": {},
   "source": [
    "## Sampling Dirichlet distribution\n",
    "Dirichlet distribution has interesting properties that one can use to split dataset in a heterogenous way. Try to play with the alpha parameter in order to see how Dirichlet law behaves\n",
    "\n",
    "\n",
    "One of the property of Dirichlet distribution is that\n",
    "$\\sum_{i=1}^k x_i = 1$, with $x_i$ samples from Dirichlet distribution, while $x_i>0$. \n",
    "\n",
    "Hence, each $x_i$ can be seen as a percentage of data for each label to sample\n"
   ]
  },
  {
   "cell_type": "code",
   "execution_count": 61,
   "id": "cbd0be1e-b4b8-4afb-9e1d-1850af1797c6",
   "metadata": {},
   "outputs": [
    {
     "data": {
      "text/plain": [
       "array([[0.35066719, 0.38881275, 0.26052006],\n",
       "       [0.38066558, 0.26387753, 0.35545689],\n",
       "       [0.35021083, 0.29963504, 0.35015413]])"
      ]
     },
     "execution_count": 61,
     "metadata": {},
     "output_type": "execute_result"
    }
   ],
   "source": [
    "\n",
    "dirichlet.rvs([alpha]*n_nodes, n_classes)"
   ]
  },
  {
   "cell_type": "code",
   "execution_count": 38,
   "id": "d64c48e5-25fa-451b-b0b0-8c20d89f7053",
   "metadata": {},
   "outputs": [
    {
     "data": {
      "text/plain": [
       "array([1., 1., 1.])"
      ]
     },
     "execution_count": 38,
     "metadata": {},
     "output_type": "execute_result"
    }
   ],
   "source": [
    "np.sum(dirichlet.rvs([alpha]*n_nodes, n_classes), axis=1)"
   ]
  },
  {
   "cell_type": "markdown",
   "id": "25828912-7674-456c-9aa2-1dd8dd8d1fa0",
   "metadata": {},
   "source": [
    "\n",
    "## Split Dataset using Dirichlet distribution"
   ]
  },
  {
   "cell_type": "code",
   "execution_count": 10,
   "id": "16d90884-6714-4406-a744-c41b934a2920",
   "metadata": {},
   "outputs": [],
   "source": [
    "\n",
    "\n",
    "def generate_train_targets(n_samples, n_data_per_class):\n",
    "    \"\"\"Creates targets list given number of samples and number of samples per class\"\"\"\n",
    "    train_targets = []\n",
    "    x = 0\n",
    "    for i in range(n_samples):\n",
    "        if i != 0 and i //n_data_per_class == x +1:\n",
    "            x += 1\n",
    "    \n",
    "        train_targets.append(x)\n",
    "    return train_targets\n",
    "\n",
    "train_targets = generate_train_targets(n_samples, n_data_per_class)"
   ]
  },
  {
   "cell_type": "code",
   "execution_count": 93,
   "id": "92dbd021-dec9-45ea-a3c9-fa424b5035e8",
   "metadata": {},
   "outputs": [],
   "source": [
    "\n",
    "import copy\n",
    "\n",
    "\n",
    "def split_noniid(train_idcs, train_labels, alpha, n_clients, seed):\n",
    "    '''\n",
    "    Splits a list of data indices with corresponding labels\n",
    "    into subsets according to a dirichlet distribution with parameter\n",
    "    alpha\n",
    "    '''\n",
    "    np.random.seed(seed)\n",
    "    n_classes = train_labels.max()+1\n",
    "    label_distribution = dirichlet.rvs([alpha]*n_clients, n_classes)\n",
    "\n",
    "    class_idcs = [np.argwhere(train_labels[train_idcs]==y).flatten() \n",
    "           for y in range(n_classes)]\n",
    "\n",
    "    client_idcs = [[] for _ in range(n_clients)]\n",
    "    for c, fracs in zip(class_idcs, label_distribution):\n",
    "        cumsum = np.split(c, (np.cumsum(fracs)[:-1]*len(c)).astype(int))\n",
    "\n",
    "        for i, idcs in enumerate(cumsum):\n",
    "            client_idcs[i] += [idcs]\n",
    "            #print(client_idcs)\n",
    "\n",
    "    client_idcs = [train_idcs[np.concatenate(idcs)] for idcs in client_idcs]\n",
    "    \n",
    "    non_iid_label =copy.deepcopy(client_idcs)\n",
    "\n",
    "    # create label from index\n",
    "    for n in range(n_clients):\n",
    "        \n",
    "        for s in range(len(client_idcs[n])):\n",
    "            non_iid_label[n][s] = train_labels[client_idcs[n][s]]\n",
    "    return client_idcs, non_iid_label\n"
   ]
  },
  {
   "cell_type": "code",
   "execution_count": 97,
   "id": "d1169317-fc86-4de1-ae2c-0f898e3ed834",
   "metadata": {},
   "outputs": [],
   "source": [
    "non_iid_data, non_iid_label = split_noniid(index_arr, np.array(train_targets), alpha , n_nodes, random_seed)"
   ]
  },
  {
   "cell_type": "code",
   "execution_count": 98,
   "id": "7f683278-9302-4e9f-90a9-de1e3fe8b4ed",
   "metadata": {},
   "outputs": [
    {
     "name": "stdout",
     "output_type": "stream",
     "text": [
      "(array([0, 1, 2]), array([ 603, 2282,  316]))\n",
      "(array([0, 1, 2]), array([2762, 2245, 1582]))\n",
      "(array([0, 1, 2]), array([1635,  473, 3102]))\n"
     ]
    }
   ],
   "source": [
    "\n",
    "# count how many label they are for each client\n",
    "for n in range(3):\n",
    "    print(np.unique(non_iid_label[n] ,return_counts=True))"
   ]
  },
  {
   "cell_type": "markdown",
   "id": "5b9f71ea-8128-4f8c-a09a-cd82335f4d9e",
   "metadata": {},
   "source": [
    "## Dataset vizualisation for each Node\n",
    "\n",
    "### Label distribution per Node"
   ]
  },
  {
   "cell_type": "code",
   "execution_count": 106,
   "id": "a61c1467-7250-40c8-870d-ccc0b4bcc854",
   "metadata": {},
   "outputs": [
    {
     "data": {
      "image/png": "[encoded data removed]",
      "text/plain": [
       "<Figure size 640x480 with 1 Axes>"
      ]
     },
     "metadata": {},
     "output_type": "display_data"
    }
   ],
   "source": [
    "\n",
    "for i in range(3):\n",
    "    plt.scatter(non_iid_data[i] - non_iid_label[i]*n_data_per_class ,  non_iid_label[i], label=\"node \" + str(i))\n",
    "    plt.xlabel(\"Number of data\")\n",
    "    plt.ylabel(f\"Labels i\")\n",
    "    plt.legend()\n",
    "    plt.title(f\"Label per Nodes for alpha= {alpha}\")\n"
   ]
  },
  {
   "cell_type": "markdown",
   "id": "9dea30b4-d9ff-41b2-9706-433477fabfba",
   "metadata": {},
   "source": [
    "### Label count per Node"
   ]
  },
  {
   "cell_type": "code",
   "execution_count": 107,
   "id": "fb561149-b1a6-4051-a73b-b47524b86065",
   "metadata": {},
   "outputs": [
    {
     "data": {
      "text/plain": [
       "Text(0.5, 1.0, 'data label count per Nodes, for alpha = 1')"
      ]
     },
     "execution_count": 107,
     "metadata": {},
     "output_type": "execute_result"
    },
    {
     "data": {
      "image/png": "[encoded data removed]",
      "text/plain": [
       "<Figure size 640x480 with 1 Axes>"
      ]
     },
     "metadata": {},
     "output_type": "display_data"
    }
   ],
   "source": [
    "import matplotlib.pyplot as plt\n",
    "color = ['g', 'r', 'b']\n",
    "\n",
    "fig, ax = plt.subplots()\n",
    "for i in range(3):\n",
    "    for j in range(3):\n",
    "        ax.bar( i*3+j, len(np.where(non_iid_label[i] ==j)[0]) , color=color[j])\n",
    "\n",
    "        ax.set_xlabel(f\"Nodes i\")\n",
    "        ax.set_ylabel(\"number of samples\")\n",
    "        #plt.legend()\n",
    "ax.set_xticks(np.arange(9), labels=[f\"node {i //3 +1} \\nlabel {i%3}\" for i in range(9) ])\n",
    "plt.title(f\"data label count per Nodes, for alpha = {alpha}\")"
   ]
  },
  {
   "cell_type": "code",
   "execution_count": 19,
   "id": "e9a3ad1f-9321-44b5-8301-2969dc5ed348",
   "metadata": {},
   "outputs": [
    {
     "name": "stdout",
     "output_type": "stream",
     "text": [
      "0.1\n"
     ]
    }
   ],
   "source": [
    "print(.1)"
   ]
  },
  {
   "cell_type": "code",
   "execution_count": null,
   "id": "495a0bcf-4df2-48aa-bb44-d9bf447aee9e",
   "metadata": {},
   "outputs": [],
   "source": []
  }
 ],
 "metadata": {
  "kernelspec": {
   "display_name": "Python 3 (ipykernel)",
   "language": "python",
   "name": "python3"
  },
  "language_info": {
   "codemirror_mode": {
    "name": "ipython",
    "version": 3
   },
   "file_extension": ".py",
   "mimetype": "text/x-python",
   "name": "python",
   "nbconvert_exporter": "python",
   "pygments_lexer": "ipython3",
   "version": "3.10.16"
  }
 },
 "nbformat": 4,
 "nbformat_minor": 5
}
